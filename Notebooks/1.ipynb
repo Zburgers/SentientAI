{
 "cells": [
  {
   "cell_type": "code",
   "execution_count": 1,
   "metadata": {},
   "outputs": [
    {
     "name": "stdout",
     "output_type": "stream",
     "text": [
      "(431371, 79)\n",
      "   Protocol  Flow Duration  Total Fwd Packets  Total Backward Packets  \\\n",
      "0        17             48                  2                       0   \n",
      "1        17              2                  2                       0   \n",
      "2        17              1                  2                       0   \n",
      "3        17              1                  2                       0   \n",
      "4        17              1                  2                       0   \n",
      "\n",
      "   Fwd Packets Length Total  Bwd Packets Length Total  Fwd Packet Length Max  \\\n",
      "0                    2944.0                       0.0                 1472.0   \n",
      "1                    2944.0                       0.0                 1472.0   \n",
      "2                    2944.0                       0.0                 1472.0   \n",
      "3                    2944.0                       0.0                 1472.0   \n",
      "4                    2896.0                       0.0                 1448.0   \n",
      "\n",
      "   Fwd Packet Length Min  Fwd Packet Length Mean  Fwd Packet Length Std  ...  \\\n",
      "0                 1472.0                  1472.0                    0.0  ...   \n",
      "1                 1472.0                  1472.0                    0.0  ...   \n",
      "2                 1472.0                  1472.0                    0.0  ...   \n",
      "3                 1472.0                  1472.0                    0.0  ...   \n",
      "4                 1448.0                  1448.0                    0.0  ...   \n",
      "\n",
      "   Active Mean  Active Std  Active Max  Active Min  Idle Mean  Idle Std  \\\n",
      "0          0.0         0.0         0.0         0.0        0.0       0.0   \n",
      "1          0.0         0.0         0.0         0.0        0.0       0.0   \n",
      "2          0.0         0.0         0.0         0.0        0.0       0.0   \n",
      "3          0.0         0.0         0.0         0.0        0.0       0.0   \n",
      "4          0.0         0.0         0.0         0.0        0.0       0.0   \n",
      "\n",
      "   Idle Max  Idle Min      Label  Attack_Type  \n",
      "0       0.0       0.0  DrDoS_DNS          DNS  \n",
      "1       0.0       0.0  DrDoS_DNS          DNS  \n",
      "2       0.0       0.0  DrDoS_DNS          DNS  \n",
      "3       0.0       0.0  DrDoS_DNS          DNS  \n",
      "4       0.0       0.0  DrDoS_DNS          DNS  \n",
      "\n",
      "[5 rows x 79 columns]\n"
     ]
    }
   ],
   "source": [
    "import pandas as pd\n",
    "\n",
    "# Load the processed dataset\n",
    "df = pd.read_csv(\"CICDDoS2019.csv\")\n",
    "\n",
    "# Display dataset structure\n",
    "print(df.shape)\n",
    "print(df.head())\n"
   ]
  },
  {
   "cell_type": "code",
   "execution_count": 2,
   "metadata": {},
   "outputs": [
    {
     "name": "stdout",
     "output_type": "stream",
     "text": [
      "Remaining Columns: 71\n"
     ]
    }
   ],
   "source": [
    "# Drop non-informative columns\n",
    "drop_cols = [\"Active Mean\", \"Active Std\", \"Active Max\", \"Active Min\", \n",
    "             \"Idle Mean\", \"Idle Std\", \"Idle Max\", \"Idle Min\"]\n",
    "df.drop(columns=drop_cols, inplace=True, errors='ignore')\n",
    "\n",
    "print(\"Remaining Columns:\", df.shape[1])  # Check column count\n"
   ]
  },
  {
   "cell_type": "code",
   "execution_count": 3,
   "metadata": {},
   "outputs": [
    {
     "name": "stdout",
     "output_type": "stream",
     "text": [
      "Label\n",
      "1    333540\n",
      "0     97831\n",
      "Name: count, dtype: int64\n"
     ]
    }
   ],
   "source": [
    "# Convert \"Label\" into binary values (1 = Attack, 0 = Normal)\n",
    "df[\"Label\"] = df[\"Label\"].apply(lambda x: 0 if \"Benign\" in str(x) else 1)\n",
    "\n",
    "# Check new label distribution\n",
    "print(df[\"Label\"].value_counts())\n"
   ]
  },
  {
   "cell_type": "code",
   "execution_count": 4,
   "metadata": {},
   "outputs": [
    {
     "name": "stdout",
     "output_type": "stream",
     "text": [
      "Data successfully scaled!\n"
     ]
    }
   ],
   "source": [
    "from sklearn.preprocessing import StandardScaler\n",
    "\n",
    "# Select only numeric columns\n",
    "X = df.select_dtypes(include=['number']).drop(columns=[\"Label\"])  # Features\n",
    "y = df[\"Label\"]  # Target\n",
    "\n",
    "# Normalize features\n",
    "scaler = StandardScaler()\n",
    "X_scaled = scaler.fit_transform(X)\n",
    "\n",
    "print(\"Data successfully scaled!\")\n"
   ]
  },
  {
   "cell_type": "code",
   "execution_count": 5,
   "metadata": {},
   "outputs": [
    {
     "name": "stdout",
     "output_type": "stream",
     "text": [
      "Training Set Size: (345096, 69)\n",
      "Testing Set Size: (86275, 69)\n"
     ]
    }
   ],
   "source": [
    "from sklearn.model_selection import train_test_split\n",
    "\n",
    "# Split dataset into 80% training, 20% testing\n",
    "X_train, X_test, y_train, y_test = train_test_split(X_scaled, y, test_size=0.2, random_state=42)\n",
    "\n",
    "print(\"Training Set Size:\", X_train.shape)\n",
    "print(\"Testing Set Size:\", X_test.shape)\n"
   ]
  },
  {
   "cell_type": "markdown",
   "metadata": {},
   "source": [
    "Model Train\n"
   ]
  },
  {
   "cell_type": "code",
   "execution_count": 6,
   "metadata": {},
   "outputs": [
    {
     "name": "stderr",
     "output_type": "stream",
     "text": [
      "2025-02-13 19:44:13.736052: I external/local_xla/xla/tsl/cuda/cudart_stub.cc:32] Could not find cuda drivers on your machine, GPU will not be used.\n",
      "2025-02-13 19:44:14.019242: I external/local_xla/xla/tsl/cuda/cudart_stub.cc:32] Could not find cuda drivers on your machine, GPU will not be used.\n",
      "2025-02-13 19:44:14.158862: E external/local_xla/xla/stream_executor/cuda/cuda_fft.cc:477] Unable to register cuFFT factory: Attempting to register factory for plugin cuFFT when one has already been registered\n",
      "WARNING: All log messages before absl::InitializeLog() is called are written to STDERR\n",
      "E0000 00:00:1739475854.466802    8981 cuda_dnn.cc:8310] Unable to register cuDNN factory: Attempting to register factory for plugin cuDNN when one has already been registered\n",
      "E0000 00:00:1739475854.553549    8981 cuda_blas.cc:1418] Unable to register cuBLAS factory: Attempting to register factory for plugin cuBLAS when one has already been registered\n",
      "2025-02-13 19:44:15.190444: I tensorflow/core/platform/cpu_feature_guard.cc:210] This TensorFlow binary is optimized to use available CPU instructions in performance-critical operations.\n",
      "To enable the following instructions: AVX2 FMA, in other operations, rebuild TensorFlow with the appropriate compiler flags.\n",
      "/home/codespace/.python/current/lib/python3.12/site-packages/keras/src/layers/core/dense.py:87: UserWarning: Do not pass an `input_shape`/`input_dim` argument to a layer. When using Sequential models, prefer using an `Input(shape)` object as the first layer in the model instead.\n",
      "  super().__init__(activity_regularizer=activity_regularizer, **kwargs)\n",
      "2025-02-13 19:44:19.593815: E external/local_xla/xla/stream_executor/cuda/cuda_driver.cc:152] failed call to cuInit: INTERNAL: CUDA error: Failed call to cuInit: UNKNOWN ERROR (303)\n"
     ]
    },
    {
     "name": "stdout",
     "output_type": "stream",
     "text": [
      "Epoch 1/10\n"
     ]
    },
    {
     "name": "stderr",
     "output_type": "stream",
     "text": [
      "2025-02-13 19:44:19.889489: W external/local_xla/xla/tsl/framework/cpu_allocator_impl.cc:83] Allocation of 95246496 exceeds 10% of free system memory.\n"
     ]
    },
    {
     "name": "stdout",
     "output_type": "stream",
     "text": [
      "\u001b[1m10758/10785\u001b[0m \u001b[32m━━━━━━━━━━━━━━━━━━━\u001b[0m\u001b[37m━\u001b[0m \u001b[1m0s\u001b[0m 1ms/step - accuracy: 0.9926 - loss: 0.0281"
     ]
    },
    {
     "name": "stderr",
     "output_type": "stream",
     "text": [
      "2025-02-13 19:44:33.633054: W external/local_xla/xla/tsl/framework/cpu_allocator_impl.cc:83] Allocation of 23811900 exceeds 10% of free system memory.\n"
     ]
    },
    {
     "name": "stdout",
     "output_type": "stream",
     "text": [
      "\u001b[1m10785/10785\u001b[0m \u001b[32m━━━━━━━━━━━━━━━━━━━━\u001b[0m\u001b[37m\u001b[0m \u001b[1m16s\u001b[0m 1ms/step - accuracy: 0.9926 - loss: 0.0281 - val_accuracy: 0.9973 - val_loss: 0.0097\n",
      "Epoch 2/10\n",
      "\u001b[1m10785/10785\u001b[0m \u001b[32m━━━━━━━━━━━━━━━━━━━━\u001b[0m\u001b[37m\u001b[0m \u001b[1m20s\u001b[0m 1ms/step - accuracy: 0.9972 - loss: 0.0102 - val_accuracy: 0.9973 - val_loss: 0.0094\n",
      "Epoch 3/10\n",
      "\u001b[1m10785/10785\u001b[0m \u001b[32m━━━━━━━━━━━━━━━━━━━━\u001b[0m\u001b[37m\u001b[0m \u001b[1m20s\u001b[0m 1ms/step - accuracy: 0.9974 - loss: 0.0088 - val_accuracy: 0.9975 - val_loss: 0.0082\n",
      "Epoch 4/10\n",
      "\u001b[1m10785/10785\u001b[0m \u001b[32m━━━━━━━━━━━━━━━━━━━━\u001b[0m\u001b[37m\u001b[0m \u001b[1m15s\u001b[0m 1ms/step - accuracy: 0.9975 - loss: 0.0084 - val_accuracy: 0.9978 - val_loss: 0.0077\n",
      "Epoch 5/10\n",
      "\u001b[1m10785/10785\u001b[0m \u001b[32m━━━━━━━━━━━━━━━━━━━━\u001b[0m\u001b[37m\u001b[0m \u001b[1m20s\u001b[0m 1ms/step - accuracy: 0.9977 - loss: 0.0081 - val_accuracy: 0.9978 - val_loss: 0.0073\n",
      "Epoch 6/10\n",
      "\u001b[1m10785/10785\u001b[0m \u001b[32m━━━━━━━━━━━━━━━━━━━━\u001b[0m\u001b[37m\u001b[0m \u001b[1m15s\u001b[0m 1ms/step - accuracy: 0.9978 - loss: 0.0077 - val_accuracy: 0.9979 - val_loss: 0.0082\n",
      "Epoch 7/10\n",
      "\u001b[1m10785/10785\u001b[0m \u001b[32m━━━━━━━━━━━━━━━━━━━━\u001b[0m\u001b[37m\u001b[0m \u001b[1m20s\u001b[0m 1ms/step - accuracy: 0.9978 - loss: 0.0069 - val_accuracy: 0.9981 - val_loss: 0.0066\n",
      "Epoch 8/10\n",
      "\u001b[1m10785/10785\u001b[0m \u001b[32m━━━━━━━━━━━━━━━━━━━━\u001b[0m\u001b[37m\u001b[0m \u001b[1m22s\u001b[0m 1ms/step - accuracy: 0.9978 - loss: 0.0072 - val_accuracy: 0.9982 - val_loss: 0.0068\n",
      "Epoch 9/10\n",
      "\u001b[1m10785/10785\u001b[0m \u001b[32m━━━━━━━━━━━━━━━━━━━━\u001b[0m\u001b[37m\u001b[0m \u001b[1m15s\u001b[0m 1ms/step - accuracy: 0.9980 - loss: 0.0067 - val_accuracy: 0.9983 - val_loss: 0.0071\n",
      "Epoch 10/10\n",
      "\u001b[1m10785/10785\u001b[0m \u001b[32m━━━━━━━━━━━━━━━━━━━━\u001b[0m\u001b[37m\u001b[0m \u001b[1m15s\u001b[0m 1ms/step - accuracy: 0.9979 - loss: 0.0068 - val_accuracy: 0.9981 - val_loss: 0.0076\n",
      "\u001b[1m2697/2697\u001b[0m \u001b[32m━━━━━━━━━━━━━━━━━━━━\u001b[0m\u001b[37m\u001b[0m \u001b[1m3s\u001b[0m 936us/step - accuracy: 0.9981 - loss: 0.0081\n",
      "🔥 Model Test Accuracy: 99.81%\n"
     ]
    }
   ],
   "source": [
    "import tensorflow as tf\n",
    "\n",
    "# Define the neural network\n",
    "model = tf.keras.models.Sequential([\n",
    "    tf.keras.layers.Dense(64, activation='relu', input_shape=(X_train.shape[1],)),  # Input layer\n",
    "    tf.keras.layers.Dense(32, activation='relu'),\n",
    "    tf.keras.layers.Dense(16, activation='relu'),\n",
    "    tf.keras.layers.Dense(1, activation='sigmoid')  # Output layer (binary classification)\n",
    "])\n",
    "\n",
    "# Compile the model\n",
    "model.compile(optimizer='adam', loss='binary_crossentropy', metrics=['accuracy'])\n",
    "\n",
    "# Train the model\n",
    "history = model.fit(X_train, y_train, epochs=10, batch_size=32, validation_data=(X_test, y_test))\n",
    "\n",
    "# Evaluate performance\n",
    "loss, accuracy = model.evaluate(X_test, y_test)\n",
    "print(f\"🔥 Model Test Accuracy: {accuracy * 100:.2f}%\")\n"
   ]
  },
  {
   "cell_type": "code",
   "execution_count": 7,
   "metadata": {},
   "outputs": [
    {
     "data": {
      "image/png": "[encoded data removed]",
      "text/plain": [
       "<Figure size 640x480 with 1 Axes>"
      ]
     },
     "metadata": {},
     "output_type": "display_data"
    }
   ],
   "source": [
    "import matplotlib.pyplot as plt\n",
    "\n",
    "# Plot training & validation accuracy\n",
    "plt.plot(history.history['accuracy'], label='Train Accuracy')\n",
    "plt.plot(history.history['val_accuracy'], label='Validation Accuracy')\n",
    "plt.xlabel('Epochs')\n",
    "plt.ylabel('Accuracy')\n",
    "plt.legend()\n",
    "plt.show()\n"
   ]
  },
  {
   "cell_type": "code",
   "execution_count": 1,
   "metadata": {},
   "outputs": [
    {
     "ename": "NameError",
     "evalue": "name 'X_test' is not defined",
     "output_type": "error",
     "traceback": [
      "\u001b[0;31m---------------------------------------------------------------------------\u001b[0m",
      "\u001b[0;31mNameError\u001b[0m                                 Traceback (most recent call last)",
      "Cell \u001b[0;32mIn[1], line 4\u001b[0m\n\u001b[1;32m      1\u001b[0m \u001b[38;5;28;01mimport\u001b[39;00m \u001b[38;5;21;01mnumpy\u001b[39;00m \u001b[38;5;28;01mas\u001b[39;00m \u001b[38;5;21;01mnp\u001b[39;00m\n\u001b[1;32m      3\u001b[0m \u001b[38;5;66;03m# Select a random test sample\u001b[39;00m\n\u001b[0;32m----> 4\u001b[0m random_sample \u001b[38;5;241m=\u001b[39m np\u001b[38;5;241m.\u001b[39marray([\u001b[43mX_test\u001b[49m[\u001b[38;5;241m0\u001b[39m]])  \u001b[38;5;66;03m# Pick a test sample\u001b[39;00m\n\u001b[1;32m      5\u001b[0m prediction \u001b[38;5;241m=\u001b[39m model\u001b[38;5;241m.\u001b[39mpredict(random_sample)\n\u001b[1;32m      7\u001b[0m \u001b[38;5;66;03m# Print result\u001b[39;00m\n",
      "\u001b[0;31mNameError\u001b[0m: name 'X_test' is not defined"
     ]
    }
   ],
   "source": [
    "import numpy as np\n",
    "\n",
    "# Select a random test sample\n",
    "random_sample = np.array([X_test[0]])  # Pick a test sample\n",
    "prediction = model.predict(random_sample)\n",
    "\n",
    "# Print result\n",
    "if prediction[0][0] > 0.5:\n",
    "    print(\"🚨 ALERT: DDoS Attack Detected!\")\n",
    "else:\n",
    "    print(\"✅ Normal Traffic.\")\n"
   ]
  },
  {
   "cell_type": "code",
   "execution_count": 3,
   "metadata": {},
   "outputs": [
    {
     "name": "stdout",
     "output_type": "stream",
     "text": [
      "Label\n",
      "1    45095\n",
      "0    45095\n",
      "Name: count, dtype: int64\n"
     ]
    }
   ],
   "source": [
    "import pandas as pd\n",
    "\n",
    "df = pd.read_csv(\"DDoS_Dataset_v1.csv\")\n",
    "print(df[\"Label\"].value_counts())  # 🔍 Check class distribution\n"
   ]
  },
  {
   "cell_type": "code",
   "execution_count": 1,
   "metadata": {},
   "outputs": [
    {
     "name": "stderr",
     "output_type": "stream",
     "text": [
      "2025-02-14 21:06:32.375090: I external/local_xla/xla/tsl/cuda/cudart_stub.cc:32] Could not find cuda drivers on your machine, GPU will not be used.\n",
      "2025-02-14 21:06:32.378366: I external/local_xla/xla/tsl/cuda/cudart_stub.cc:32] Could not find cuda drivers on your machine, GPU will not be used.\n",
      "2025-02-14 21:06:32.387285: E external/local_xla/xla/stream_executor/cuda/cuda_fft.cc:477] Unable to register cuFFT factory: Attempting to register factory for plugin cuFFT when one has already been registered\n",
      "WARNING: All log messages before absl::InitializeLog() is called are written to STDERR\n",
      "E0000 00:00:1739567192.401896   25138 cuda_dnn.cc:8310] Unable to register cuDNN factory: Attempting to register factory for plugin cuDNN when one has already been registered\n",
      "E0000 00:00:1739567192.407167   25138 cuda_blas.cc:1418] Unable to register cuBLAS factory: Attempting to register factory for plugin cuBLAS when one has already been registered\n",
      "2025-02-14 21:06:32.423569: I tensorflow/core/platform/cpu_feature_guard.cc:210] This TensorFlow binary is optimized to use available CPU instructions in performance-critical operations.\n",
      "To enable the following instructions: AVX2 FMA, in other operations, rebuild TensorFlow with the appropriate compiler flags.\n"
     ]
    },
    {
     "ename": "NameError",
     "evalue": "name 'model' is not defined",
     "output_type": "error",
     "traceback": [
      "\u001b[0;31m---------------------------------------------------------------------------\u001b[0m",
      "\u001b[0;31mNameError\u001b[0m                                 Traceback (most recent call last)",
      "Cell \u001b[0;32mIn[1], line 5\u001b[0m\n\u001b[1;32m      2\u001b[0m \u001b[38;5;28;01mimport\u001b[39;00m \u001b[38;5;21;01mpickle\u001b[39;00m\n\u001b[1;32m      4\u001b[0m \u001b[38;5;66;03m# Save the trained model\u001b[39;00m\n\u001b[0;32m----> 5\u001b[0m \u001b[43mmodel\u001b[49m\u001b[38;5;241m.\u001b[39msave(\u001b[38;5;124m\"\u001b[39m\u001b[38;5;124mModels/ddos_model.h5\u001b[39m\u001b[38;5;124m\"\u001b[39m)\n\u001b[1;32m      6\u001b[0m \u001b[38;5;28mprint\u001b[39m(\u001b[38;5;124m\"\u001b[39m\u001b[38;5;124m✅ Model saved successfully!\u001b[39m\u001b[38;5;124m\"\u001b[39m)\n\u001b[1;32m      8\u001b[0m \u001b[38;5;66;03m# Save the StandardScaler\u001b[39;00m\n",
      "\u001b[0;31mNameError\u001b[0m: name 'model' is not defined"
     ]
    }
   ],
   "source": [
    "import tensorflow as tf\n",
    "import pickle\n",
    "\n",
    "# Save the trained model\n",
    "model.save(\"Models/ddos_model.h5\")\n",
    "print(\"✅ Model saved successfully!\")\n",
    "\n",
    "# Save the StandardScaler\n",
    "with open(\"Models/scaler.pkl\", \"wb\") as f:\n",
    "    pickle.dump(scaler, f)\n",
    "print(\"✅ Scaler saved successfully!\")\n"
   ]
  },
  {
   "cell_type": "code",
   "execution_count": null,
   "metadata": {},
   "outputs": [],
   "source": []
  },
  {
   "cell_type": "code",
   "execution_count": null,
   "metadata": {},
   "outputs": [
    {
     "ename": "FileNotFoundError",
     "evalue": "[Errno 2] Unable to synchronously open file (unable to open file: name = 'ddos_model.h5', errno = 2, error message = 'No such file or directory', flags = 0, o_flags = 0)",
     "output_type": "error",
     "traceback": [
      "\u001b[0;31m---------------------------------------------------------------------------\u001b[0m",
      "\u001b[0;31mFileNotFoundError\u001b[0m                         Traceback (most recent call last)",
      "Cell \u001b[0;32mIn[2], line 5\u001b[0m\n\u001b[1;32m      2\u001b[0m \u001b[38;5;28;01mimport\u001b[39;00m \u001b[38;5;21;01mpickle\u001b[39;00m\n\u001b[1;32m      4\u001b[0m \u001b[38;5;66;03m# Load AI model\u001b[39;00m\n\u001b[0;32m----> 5\u001b[0m model \u001b[38;5;241m=\u001b[39m \u001b[43mtf\u001b[49m\u001b[38;5;241;43m.\u001b[39;49m\u001b[43mkeras\u001b[49m\u001b[38;5;241;43m.\u001b[39;49m\u001b[43mmodels\u001b[49m\u001b[38;5;241;43m.\u001b[39;49m\u001b[43mload_model\u001b[49m\u001b[43m(\u001b[49m\u001b[38;5;124;43m\"\u001b[39;49m\u001b[38;5;124;43mddos_model.h5\u001b[39;49m\u001b[38;5;124;43m\"\u001b[39;49m\u001b[43m)\u001b[49m\n\u001b[1;32m      7\u001b[0m \u001b[38;5;66;03m# Load Scaler\u001b[39;00m\n\u001b[1;32m      8\u001b[0m \u001b[38;5;28;01mwith\u001b[39;00m \u001b[38;5;28mopen\u001b[39m(\u001b[38;5;124m\"\u001b[39m\u001b[38;5;124mscaler.pkl\u001b[39m\u001b[38;5;124m\"\u001b[39m, \u001b[38;5;124m\"\u001b[39m\u001b[38;5;124mrb\u001b[39m\u001b[38;5;124m\"\u001b[39m) \u001b[38;5;28;01mas\u001b[39;00m f:\n",
      "File \u001b[0;32m~/.python/current/lib/python3.12/site-packages/keras/src/saving/saving_api.py:196\u001b[0m, in \u001b[0;36mload_model\u001b[0;34m(filepath, custom_objects, compile, safe_mode)\u001b[0m\n\u001b[1;32m    189\u001b[0m     \u001b[38;5;28;01mreturn\u001b[39;00m saving_lib\u001b[38;5;241m.\u001b[39mload_model(\n\u001b[1;32m    190\u001b[0m         filepath,\n\u001b[1;32m    191\u001b[0m         custom_objects\u001b[38;5;241m=\u001b[39mcustom_objects,\n\u001b[1;32m    192\u001b[0m         \u001b[38;5;28mcompile\u001b[39m\u001b[38;5;241m=\u001b[39m\u001b[38;5;28mcompile\u001b[39m,\n\u001b[1;32m    193\u001b[0m         safe_mode\u001b[38;5;241m=\u001b[39msafe_mode,\n\u001b[1;32m    194\u001b[0m     )\n\u001b[1;32m    195\u001b[0m \u001b[38;5;28;01mif\u001b[39;00m \u001b[38;5;28mstr\u001b[39m(filepath)\u001b[38;5;241m.\u001b[39mendswith((\u001b[38;5;124m\"\u001b[39m\u001b[38;5;124m.h5\u001b[39m\u001b[38;5;124m\"\u001b[39m, \u001b[38;5;124m\"\u001b[39m\u001b[38;5;124m.hdf5\u001b[39m\u001b[38;5;124m\"\u001b[39m)):\n\u001b[0;32m--> 196\u001b[0m     \u001b[38;5;28;01mreturn\u001b[39;00m \u001b[43mlegacy_h5_format\u001b[49m\u001b[38;5;241;43m.\u001b[39;49m\u001b[43mload_model_from_hdf5\u001b[49m\u001b[43m(\u001b[49m\n\u001b[1;32m    197\u001b[0m \u001b[43m        \u001b[49m\u001b[43mfilepath\u001b[49m\u001b[43m,\u001b[49m\u001b[43m \u001b[49m\u001b[43mcustom_objects\u001b[49m\u001b[38;5;241;43m=\u001b[39;49m\u001b[43mcustom_objects\u001b[49m\u001b[43m,\u001b[49m\u001b[43m \u001b[49m\u001b[38;5;28;43mcompile\u001b[39;49m\u001b[38;5;241;43m=\u001b[39;49m\u001b[38;5;28;43mcompile\u001b[39;49m\n\u001b[1;32m    198\u001b[0m \u001b[43m    \u001b[49m\u001b[43m)\u001b[49m\n\u001b[1;32m    199\u001b[0m \u001b[38;5;28;01melif\u001b[39;00m \u001b[38;5;28mstr\u001b[39m(filepath)\u001b[38;5;241m.\u001b[39mendswith(\u001b[38;5;124m\"\u001b[39m\u001b[38;5;124m.keras\u001b[39m\u001b[38;5;124m\"\u001b[39m):\n\u001b[1;32m    200\u001b[0m     \u001b[38;5;28;01mraise\u001b[39;00m \u001b[38;5;167;01mValueError\u001b[39;00m(\n\u001b[1;32m    201\u001b[0m         \u001b[38;5;124mf\u001b[39m\u001b[38;5;124m\"\u001b[39m\u001b[38;5;124mFile not found: filepath=\u001b[39m\u001b[38;5;132;01m{\u001b[39;00mfilepath\u001b[38;5;132;01m}\u001b[39;00m\u001b[38;5;124m. \u001b[39m\u001b[38;5;124m\"\u001b[39m\n\u001b[1;32m    202\u001b[0m         \u001b[38;5;124m\"\u001b[39m\u001b[38;5;124mPlease ensure the file is an accessible `.keras` \u001b[39m\u001b[38;5;124m\"\u001b[39m\n\u001b[1;32m    203\u001b[0m         \u001b[38;5;124m\"\u001b[39m\u001b[38;5;124mzip file.\u001b[39m\u001b[38;5;124m\"\u001b[39m\n\u001b[1;32m    204\u001b[0m     )\n",
      "File \u001b[0;32m~/.python/current/lib/python3.12/site-packages/keras/src/legacy/saving/legacy_h5_format.py:116\u001b[0m, in \u001b[0;36mload_model_from_hdf5\u001b[0;34m(filepath, custom_objects, compile)\u001b[0m\n\u001b[1;32m    114\u001b[0m opened_new_file \u001b[38;5;241m=\u001b[39m \u001b[38;5;129;01mnot\u001b[39;00m \u001b[38;5;28misinstance\u001b[39m(filepath, h5py\u001b[38;5;241m.\u001b[39mFile)\n\u001b[1;32m    115\u001b[0m \u001b[38;5;28;01mif\u001b[39;00m opened_new_file:\n\u001b[0;32m--> 116\u001b[0m     f \u001b[38;5;241m=\u001b[39m \u001b[43mh5py\u001b[49m\u001b[38;5;241;43m.\u001b[39;49m\u001b[43mFile\u001b[49m\u001b[43m(\u001b[49m\u001b[43mfilepath\u001b[49m\u001b[43m,\u001b[49m\u001b[43m \u001b[49m\u001b[43mmode\u001b[49m\u001b[38;5;241;43m=\u001b[39;49m\u001b[38;5;124;43m\"\u001b[39;49m\u001b[38;5;124;43mr\u001b[39;49m\u001b[38;5;124;43m\"\u001b[39;49m\u001b[43m)\u001b[49m\n\u001b[1;32m    117\u001b[0m \u001b[38;5;28;01melse\u001b[39;00m:\n\u001b[1;32m    118\u001b[0m     f \u001b[38;5;241m=\u001b[39m filepath\n",
      "File \u001b[0;32m~/.python/current/lib/python3.12/site-packages/h5py/_hl/files.py:561\u001b[0m, in \u001b[0;36mFile.__init__\u001b[0;34m(self, name, mode, driver, libver, userblock_size, swmr, rdcc_nslots, rdcc_nbytes, rdcc_w0, track_order, fs_strategy, fs_persist, fs_threshold, fs_page_size, page_buf_size, min_meta_keep, min_raw_keep, locking, alignment_threshold, alignment_interval, meta_block_size, **kwds)\u001b[0m\n\u001b[1;32m    552\u001b[0m     fapl \u001b[38;5;241m=\u001b[39m make_fapl(driver, libver, rdcc_nslots, rdcc_nbytes, rdcc_w0,\n\u001b[1;32m    553\u001b[0m                      locking, page_buf_size, min_meta_keep, min_raw_keep,\n\u001b[1;32m    554\u001b[0m                      alignment_threshold\u001b[38;5;241m=\u001b[39malignment_threshold,\n\u001b[1;32m    555\u001b[0m                      alignment_interval\u001b[38;5;241m=\u001b[39malignment_interval,\n\u001b[1;32m    556\u001b[0m                      meta_block_size\u001b[38;5;241m=\u001b[39mmeta_block_size,\n\u001b[1;32m    557\u001b[0m                      \u001b[38;5;241m*\u001b[39m\u001b[38;5;241m*\u001b[39mkwds)\n\u001b[1;32m    558\u001b[0m     fcpl \u001b[38;5;241m=\u001b[39m make_fcpl(track_order\u001b[38;5;241m=\u001b[39mtrack_order, fs_strategy\u001b[38;5;241m=\u001b[39mfs_strategy,\n\u001b[1;32m    559\u001b[0m                      fs_persist\u001b[38;5;241m=\u001b[39mfs_persist, fs_threshold\u001b[38;5;241m=\u001b[39mfs_threshold,\n\u001b[1;32m    560\u001b[0m                      fs_page_size\u001b[38;5;241m=\u001b[39mfs_page_size)\n\u001b[0;32m--> 561\u001b[0m     fid \u001b[38;5;241m=\u001b[39m \u001b[43mmake_fid\u001b[49m\u001b[43m(\u001b[49m\u001b[43mname\u001b[49m\u001b[43m,\u001b[49m\u001b[43m \u001b[49m\u001b[43mmode\u001b[49m\u001b[43m,\u001b[49m\u001b[43m \u001b[49m\u001b[43muserblock_size\u001b[49m\u001b[43m,\u001b[49m\u001b[43m \u001b[49m\u001b[43mfapl\u001b[49m\u001b[43m,\u001b[49m\u001b[43m \u001b[49m\u001b[43mfcpl\u001b[49m\u001b[43m,\u001b[49m\u001b[43m \u001b[49m\u001b[43mswmr\u001b[49m\u001b[38;5;241;43m=\u001b[39;49m\u001b[43mswmr\u001b[49m\u001b[43m)\u001b[49m\n\u001b[1;32m    563\u001b[0m \u001b[38;5;28;01mif\u001b[39;00m \u001b[38;5;28misinstance\u001b[39m(libver, \u001b[38;5;28mtuple\u001b[39m):\n\u001b[1;32m    564\u001b[0m     \u001b[38;5;28mself\u001b[39m\u001b[38;5;241m.\u001b[39m_libver \u001b[38;5;241m=\u001b[39m libver\n",
      "File \u001b[0;32m~/.python/current/lib/python3.12/site-packages/h5py/_hl/files.py:235\u001b[0m, in \u001b[0;36mmake_fid\u001b[0;34m(name, mode, userblock_size, fapl, fcpl, swmr)\u001b[0m\n\u001b[1;32m    233\u001b[0m     \u001b[38;5;28;01mif\u001b[39;00m swmr \u001b[38;5;129;01mand\u001b[39;00m swmr_support:\n\u001b[1;32m    234\u001b[0m         flags \u001b[38;5;241m|\u001b[39m\u001b[38;5;241m=\u001b[39m h5f\u001b[38;5;241m.\u001b[39mACC_SWMR_READ\n\u001b[0;32m--> 235\u001b[0m     fid \u001b[38;5;241m=\u001b[39m \u001b[43mh5f\u001b[49m\u001b[38;5;241;43m.\u001b[39;49m\u001b[43mopen\u001b[49m\u001b[43m(\u001b[49m\u001b[43mname\u001b[49m\u001b[43m,\u001b[49m\u001b[43m \u001b[49m\u001b[43mflags\u001b[49m\u001b[43m,\u001b[49m\u001b[43m \u001b[49m\u001b[43mfapl\u001b[49m\u001b[38;5;241;43m=\u001b[39;49m\u001b[43mfapl\u001b[49m\u001b[43m)\u001b[49m\n\u001b[1;32m    236\u001b[0m \u001b[38;5;28;01melif\u001b[39;00m mode \u001b[38;5;241m==\u001b[39m \u001b[38;5;124m'\u001b[39m\u001b[38;5;124mr+\u001b[39m\u001b[38;5;124m'\u001b[39m:\n\u001b[1;32m    237\u001b[0m     fid \u001b[38;5;241m=\u001b[39m h5f\u001b[38;5;241m.\u001b[39mopen(name, h5f\u001b[38;5;241m.\u001b[39mACC_RDWR, fapl\u001b[38;5;241m=\u001b[39mfapl)\n",
      "File \u001b[0;32mh5py/_objects.pyx:54\u001b[0m, in \u001b[0;36mh5py._objects.with_phil.wrapper\u001b[0;34m()\u001b[0m\n",
      "File \u001b[0;32mh5py/_objects.pyx:55\u001b[0m, in \u001b[0;36mh5py._objects.with_phil.wrapper\u001b[0;34m()\u001b[0m\n",
      "File \u001b[0;32mh5py/h5f.pyx:102\u001b[0m, in \u001b[0;36mh5py.h5f.open\u001b[0;34m()\u001b[0m\n",
      "\u001b[0;31mFileNotFoundError\u001b[0m: [Errno 2] Unable to synchronously open file (unable to open file: name = 'ddos_model.h5', errno = 2, error message = 'No such file or directory', flags = 0, o_flags = 0)"
     ]
    }
   ],
   "source": [
    "import tensorflow as tf\n",
    "import pickle\n",
    "\n",
    "# Load AI model\n",
    "model = tf.keras.models.load_model(\"Models/ddos_model.h5\")\n",
    "\n",
    "# Load Scaler\n",
    "with open(\"scaler.pkl\", \"rb\") as f:\n",
    "    scaler = pickle.load(f)\n",
    "\n",
    "# Print expected number of features\n",
    "print(f\"🔥 Model expects {model.input_shape[1]} features\")\n",
    "print(f\"🔥 Scaler expects {scaler.n_features_in_} features\")\n"
   ]
  },
  {
   "cell_type": "code",
   "execution_count": 6,
   "metadata": {},
   "outputs": [
    {
     "name": "stdout",
     "output_type": "stream",
     "text": [
      "🔥 Balanced Dataset Saved: Label\n",
      "1    45095\n",
      "0    45095\n",
      "Name: count, dtype: int64\n"
     ]
    },
    {
     "data": {
      "text/html": [
       "<div>\n",
       "<style scoped>\n",
       "    .dataframe tbody tr th:only-of-type {\n",
       "        vertical-align: middle;\n",
       "    }\n",
       "\n",
       "    .dataframe tbody tr th {\n",
       "        vertical-align: top;\n",
       "    }\n",
       "\n",
       "    .dataframe thead th {\n",
       "        text-align: right;\n",
       "    }\n",
       "</style>\n",
       "<table border=\"1\" class=\"dataframe\">\n",
       "  <thead>\n",
       "    <tr style=\"text-align: right;\">\n",
       "      <th></th>\n",
       "      <th>URG Flag Count</th>\n",
       "      <th>Bwd Packet Length Max</th>\n",
       "      <th>Packet Length Min</th>\n",
       "      <th>Bwd Packets Length Total</th>\n",
       "      <th>Fwd Packet Length Min</th>\n",
       "      <th>Fwd Act Data Packets</th>\n",
       "      <th>Bwd Packets/s</th>\n",
       "      <th>Subflow Bwd Bytes</th>\n",
       "      <th>Init Bwd Win Bytes</th>\n",
       "      <th>Down/Up Ratio</th>\n",
       "      <th>...</th>\n",
       "      <th>Flow Bytes/s</th>\n",
       "      <th>RST Flag Count</th>\n",
       "      <th>Fwd IAT Max</th>\n",
       "      <th>Fwd Packets/s</th>\n",
       "      <th>Flow IAT Max</th>\n",
       "      <th>Fwd IAT Total</th>\n",
       "      <th>Packet Length Max</th>\n",
       "      <th>Subflow Fwd Bytes</th>\n",
       "      <th>Flow Packets/s</th>\n",
       "      <th>Label</th>\n",
       "    </tr>\n",
       "  </thead>\n",
       "  <tbody>\n",
       "    <tr>\n",
       "      <th>0</th>\n",
       "      <td>0</td>\n",
       "      <td>0.0</td>\n",
       "      <td>330.0</td>\n",
       "      <td>0.0</td>\n",
       "      <td>330.0</td>\n",
       "      <td>3</td>\n",
       "      <td>0.000000</td>\n",
       "      <td>0</td>\n",
       "      <td>-1</td>\n",
       "      <td>0.0</td>\n",
       "      <td>...</td>\n",
       "      <td>1.283405e+04</td>\n",
       "      <td>0</td>\n",
       "      <td>108927.0</td>\n",
       "      <td>36.721170</td>\n",
       "      <td>108927.0</td>\n",
       "      <td>108929.0</td>\n",
       "      <td>369.0</td>\n",
       "      <td>1398</td>\n",
       "      <td>36.721167</td>\n",
       "      <td>1</td>\n",
       "    </tr>\n",
       "    <tr>\n",
       "      <th>1</th>\n",
       "      <td>0</td>\n",
       "      <td>6.0</td>\n",
       "      <td>6.0</td>\n",
       "      <td>12.0</td>\n",
       "      <td>6.0</td>\n",
       "      <td>1</td>\n",
       "      <td>19607.844000</td>\n",
       "      <td>12</td>\n",
       "      <td>0</td>\n",
       "      <td>1.0</td>\n",
       "      <td>...</td>\n",
       "      <td>2.352941e+05</td>\n",
       "      <td>0</td>\n",
       "      <td>46.0</td>\n",
       "      <td>19607.844000</td>\n",
       "      <td>56.0</td>\n",
       "      <td>46.0</td>\n",
       "      <td>6.0</td>\n",
       "      <td>12</td>\n",
       "      <td>39215.686275</td>\n",
       "      <td>1</td>\n",
       "    </tr>\n",
       "    <tr>\n",
       "      <th>2</th>\n",
       "      <td>0</td>\n",
       "      <td>6.0</td>\n",
       "      <td>6.0</td>\n",
       "      <td>24.0</td>\n",
       "      <td>6.0</td>\n",
       "      <td>9</td>\n",
       "      <td>0.067711</td>\n",
       "      <td>24</td>\n",
       "      <td>0</td>\n",
       "      <td>0.0</td>\n",
       "      <td>...</td>\n",
       "      <td>1.421929e+00</td>\n",
       "      <td>0</td>\n",
       "      <td>20175560.0</td>\n",
       "      <td>0.169277</td>\n",
       "      <td>20175560.0</td>\n",
       "      <td>59074690.0</td>\n",
       "      <td>6.0</td>\n",
       "      <td>60</td>\n",
       "      <td>0.236988</td>\n",
       "      <td>1</td>\n",
       "    </tr>\n",
       "    <tr>\n",
       "      <th>3</th>\n",
       "      <td>1</td>\n",
       "      <td>46.0</td>\n",
       "      <td>0.0</td>\n",
       "      <td>184.0</td>\n",
       "      <td>0.0</td>\n",
       "      <td>7</td>\n",
       "      <td>0.053577</td>\n",
       "      <td>184</td>\n",
       "      <td>252</td>\n",
       "      <td>0.0</td>\n",
       "      <td>...</td>\n",
       "      <td>4.661169e+00</td>\n",
       "      <td>1</td>\n",
       "      <td>58285736.0</td>\n",
       "      <td>0.116083</td>\n",
       "      <td>58285736.0</td>\n",
       "      <td>111989080.0</td>\n",
       "      <td>46.0</td>\n",
       "      <td>338</td>\n",
       "      <td>0.169659</td>\n",
       "      <td>0</td>\n",
       "    </tr>\n",
       "    <tr>\n",
       "      <th>4</th>\n",
       "      <td>0</td>\n",
       "      <td>66.0</td>\n",
       "      <td>50.0</td>\n",
       "      <td>132.0</td>\n",
       "      <td>50.0</td>\n",
       "      <td>1</td>\n",
       "      <td>97.361500</td>\n",
       "      <td>132</td>\n",
       "      <td>-1</td>\n",
       "      <td>1.0</td>\n",
       "      <td>...</td>\n",
       "      <td>1.129393e+04</td>\n",
       "      <td>0</td>\n",
       "      <td>3.0</td>\n",
       "      <td>97.361500</td>\n",
       "      <td>20536.0</td>\n",
       "      <td>3.0</td>\n",
       "      <td>66.0</td>\n",
       "      <td>100</td>\n",
       "      <td>194.723007</td>\n",
       "      <td>0</td>\n",
       "    </tr>\n",
       "    <tr>\n",
       "      <th>...</th>\n",
       "      <td>...</td>\n",
       "      <td>...</td>\n",
       "      <td>...</td>\n",
       "      <td>...</td>\n",
       "      <td>...</td>\n",
       "      <td>...</td>\n",
       "      <td>...</td>\n",
       "      <td>...</td>\n",
       "      <td>...</td>\n",
       "      <td>...</td>\n",
       "      <td>...</td>\n",
       "      <td>...</td>\n",
       "      <td>...</td>\n",
       "      <td>...</td>\n",
       "      <td>...</td>\n",
       "      <td>...</td>\n",
       "      <td>...</td>\n",
       "      <td>...</td>\n",
       "      <td>...</td>\n",
       "      <td>...</td>\n",
       "      <td>...</td>\n",
       "    </tr>\n",
       "    <tr>\n",
       "      <th>95</th>\n",
       "      <td>1</td>\n",
       "      <td>0.0</td>\n",
       "      <td>0.0</td>\n",
       "      <td>0.0</td>\n",
       "      <td>6.0</td>\n",
       "      <td>2</td>\n",
       "      <td>0.403689</td>\n",
       "      <td>0</td>\n",
       "      <td>242</td>\n",
       "      <td>0.0</td>\n",
       "      <td>...</td>\n",
       "      <td>3.633205e+00</td>\n",
       "      <td>0</td>\n",
       "      <td>4954300.0</td>\n",
       "      <td>0.605534</td>\n",
       "      <td>4913290.0</td>\n",
       "      <td>4954303.0</td>\n",
       "      <td>6.0</td>\n",
       "      <td>18</td>\n",
       "      <td>1.009224</td>\n",
       "      <td>0</td>\n",
       "    </tr>\n",
       "    <tr>\n",
       "      <th>96</th>\n",
       "      <td>0</td>\n",
       "      <td>0.0</td>\n",
       "      <td>432.0</td>\n",
       "      <td>0.0</td>\n",
       "      <td>432.0</td>\n",
       "      <td>1</td>\n",
       "      <td>0.000000</td>\n",
       "      <td>0</td>\n",
       "      <td>-1</td>\n",
       "      <td>0.0</td>\n",
       "      <td>...</td>\n",
       "      <td>1.728000e+07</td>\n",
       "      <td>0</td>\n",
       "      <td>50.0</td>\n",
       "      <td>40000.000000</td>\n",
       "      <td>50.0</td>\n",
       "      <td>50.0</td>\n",
       "      <td>432.0</td>\n",
       "      <td>864</td>\n",
       "      <td>40000.000000</td>\n",
       "      <td>1</td>\n",
       "    </tr>\n",
       "    <tr>\n",
       "      <th>97</th>\n",
       "      <td>0</td>\n",
       "      <td>6.0</td>\n",
       "      <td>6.0</td>\n",
       "      <td>24.0</td>\n",
       "      <td>6.0</td>\n",
       "      <td>9</td>\n",
       "      <td>0.066667</td>\n",
       "      <td>24</td>\n",
       "      <td>0</td>\n",
       "      <td>0.0</td>\n",
       "      <td>...</td>\n",
       "      <td>1.399997e+00</td>\n",
       "      <td>0</td>\n",
       "      <td>23259606.0</td>\n",
       "      <td>0.166666</td>\n",
       "      <td>23259606.0</td>\n",
       "      <td>60000040.0</td>\n",
       "      <td>6.0</td>\n",
       "      <td>60</td>\n",
       "      <td>0.233333</td>\n",
       "      <td>1</td>\n",
       "    </tr>\n",
       "    <tr>\n",
       "      <th>98</th>\n",
       "      <td>0</td>\n",
       "      <td>0.0</td>\n",
       "      <td>330.0</td>\n",
       "      <td>0.0</td>\n",
       "      <td>330.0</td>\n",
       "      <td>3</td>\n",
       "      <td>0.000000</td>\n",
       "      <td>0</td>\n",
       "      <td>-1</td>\n",
       "      <td>0.0</td>\n",
       "      <td>...</td>\n",
       "      <td>1.323087e+04</td>\n",
       "      <td>0</td>\n",
       "      <td>105660.0</td>\n",
       "      <td>37.856560</td>\n",
       "      <td>105660.0</td>\n",
       "      <td>105662.0</td>\n",
       "      <td>369.0</td>\n",
       "      <td>1398</td>\n",
       "      <td>37.856561</td>\n",
       "      <td>1</td>\n",
       "    </tr>\n",
       "    <tr>\n",
       "      <th>99</th>\n",
       "      <td>0</td>\n",
       "      <td>6.0</td>\n",
       "      <td>6.0</td>\n",
       "      <td>12.0</td>\n",
       "      <td>6.0</td>\n",
       "      <td>1</td>\n",
       "      <td>20000.000000</td>\n",
       "      <td>12</td>\n",
       "      <td>0</td>\n",
       "      <td>1.0</td>\n",
       "      <td>...</td>\n",
       "      <td>2.400000e+05</td>\n",
       "      <td>0</td>\n",
       "      <td>51.0</td>\n",
       "      <td>20000.000000</td>\n",
       "      <td>51.0</td>\n",
       "      <td>51.0</td>\n",
       "      <td>6.0</td>\n",
       "      <td>12</td>\n",
       "      <td>40000.000000</td>\n",
       "      <td>1</td>\n",
       "    </tr>\n",
       "  </tbody>\n",
       "</table>\n",
       "<p>100 rows × 31 columns</p>\n",
       "</div>"
      ],
      "text/plain": [
       "    URG Flag Count  Bwd Packet Length Max  Packet Length Min  \\\n",
       "0                0                    0.0              330.0   \n",
       "1                0                    6.0                6.0   \n",
       "2                0                    6.0                6.0   \n",
       "3                1                   46.0                0.0   \n",
       "4                0                   66.0               50.0   \n",
       "..             ...                    ...                ...   \n",
       "95               1                    0.0                0.0   \n",
       "96               0                    0.0              432.0   \n",
       "97               0                    6.0                6.0   \n",
       "98               0                    0.0              330.0   \n",
       "99               0                    6.0                6.0   \n",
       "\n",
       "    Bwd Packets Length Total  Fwd Packet Length Min  Fwd Act Data Packets  \\\n",
       "0                        0.0                  330.0                     3   \n",
       "1                       12.0                    6.0                     1   \n",
       "2                       24.0                    6.0                     9   \n",
       "3                      184.0                    0.0                     7   \n",
       "4                      132.0                   50.0                     1   \n",
       "..                       ...                    ...                   ...   \n",
       "95                       0.0                    6.0                     2   \n",
       "96                       0.0                  432.0                     1   \n",
       "97                      24.0                    6.0                     9   \n",
       "98                       0.0                  330.0                     3   \n",
       "99                      12.0                    6.0                     1   \n",
       "\n",
       "    Bwd Packets/s  Subflow Bwd Bytes  Init Bwd Win Bytes  Down/Up Ratio  ...  \\\n",
       "0        0.000000                  0                  -1            0.0  ...   \n",
       "1    19607.844000                 12                   0            1.0  ...   \n",
       "2        0.067711                 24                   0            0.0  ...   \n",
       "3        0.053577                184                 252            0.0  ...   \n",
       "4       97.361500                132                  -1            1.0  ...   \n",
       "..            ...                ...                 ...            ...  ...   \n",
       "95       0.403689                  0                 242            0.0  ...   \n",
       "96       0.000000                  0                  -1            0.0  ...   \n",
       "97       0.066667                 24                   0            0.0  ...   \n",
       "98       0.000000                  0                  -1            0.0  ...   \n",
       "99   20000.000000                 12                   0            1.0  ...   \n",
       "\n",
       "    Flow Bytes/s  RST Flag Count  Fwd IAT Max  Fwd Packets/s  Flow IAT Max  \\\n",
       "0   1.283405e+04               0     108927.0      36.721170      108927.0   \n",
       "1   2.352941e+05               0         46.0   19607.844000          56.0   \n",
       "2   1.421929e+00               0   20175560.0       0.169277    20175560.0   \n",
       "3   4.661169e+00               1   58285736.0       0.116083    58285736.0   \n",
       "4   1.129393e+04               0          3.0      97.361500       20536.0   \n",
       "..           ...             ...          ...            ...           ...   \n",
       "95  3.633205e+00               0    4954300.0       0.605534     4913290.0   \n",
       "96  1.728000e+07               0         50.0   40000.000000          50.0   \n",
       "97  1.399997e+00               0   23259606.0       0.166666    23259606.0   \n",
       "98  1.323087e+04               0     105660.0      37.856560      105660.0   \n",
       "99  2.400000e+05               0         51.0   20000.000000          51.0   \n",
       "\n",
       "    Fwd IAT Total  Packet Length Max  Subflow Fwd Bytes  Flow Packets/s  Label  \n",
       "0        108929.0              369.0               1398       36.721167      1  \n",
       "1            46.0                6.0                 12    39215.686275      1  \n",
       "2      59074690.0                6.0                 60        0.236988      1  \n",
       "3     111989080.0               46.0                338        0.169659      0  \n",
       "4             3.0               66.0                100      194.723007      0  \n",
       "..            ...                ...                ...             ...    ...  \n",
       "95      4954303.0                6.0                 18        1.009224      0  \n",
       "96           50.0              432.0                864    40000.000000      1  \n",
       "97     60000040.0                6.0                 60        0.233333      1  \n",
       "98       105662.0              369.0               1398       37.856561      1  \n",
       "99           51.0                6.0                 12    40000.000000      1  \n",
       "\n",
       "[100 rows x 31 columns]"
      ]
     },
     "execution_count": 6,
     "metadata": {},
     "output_type": "execute_result"
    }
   ],
   "source": [
    "from sklearn.utils import resample\n",
    "\n",
    "# ✅ Load dataset\n",
    "df = pd.read_csv(\"DDoS_Dataset_v1.csv\")\n",
    "\n",
    "# ✅ Separate attack & normal traffic\n",
    "df_attack = df[df[\"Label\"] == 1]\n",
    "df_normal = df[df[\"Label\"] == 0]\n",
    "\n",
    "# ✅ Balance dataset (equal attack & normal samples)\n",
    "df_attack_balanced = resample(df_attack, replace=True, n_samples=len(df_normal), random_state=42)\n",
    "df_balanced = pd.concat([df_attack_balanced, df_normal])\n",
    "\n",
    "# ✅ Shuffle dataset\n",
    "df_balanced = df_balanced.sample(frac=1, random_state=42)\n",
    "\n",
    "# ✅ Save balanced dataset\n",
    "df_balanced.to_csv(\"DDoS_Dataset_v1.csv\", index=False)\n",
    "print(f\"🔥 Balanced Dataset Saved: {df_balanced['Label'].value_counts()}\")\n",
    "\n",
    "\n",
    "df.head(100)"
   ]
  },
  {
   "cell_type": "code",
   "execution_count": 7,
   "metadata": {},
   "outputs": [
    {
     "name": "stdout",
     "output_type": "stream",
     "text": [
      "🚀 Sending Normal Traffic Request...\n",
      "✅ Normal Traffic Response: {'alert': '✅ Normal Traffic', 'confidence': 0.0015958377625793219}\n",
      "\n",
      "🚀 Sending Simulated DDoS Attack Request...\n",
      "🚨 DDoS Attack Response: {'alert': '✅ Normal Traffic', 'confidence': 2.6265236101608025e-06}\n"
     ]
    }
   ],
   "source": [
    "import requests\n",
    "\n",
    "API_URL = \"http://127.0.0.1:8000/predict\"\n",
    "\n",
    "# ✅ Normal Traffic Example\n",
    "normal_traffic = {\n",
    "    \"features\": [\n",
    "        0, 1500, 60, 50000, 60, 5, 250, 10000, 3000, 1.2, 750, 2000, 10000, 750, 150, 50,\n",
    "        500, 800, 1500, 200, 2, 10000, 1, 250, 50, 300, 750, \n",
    "    ]\n",
    "}\n",
    "\n",
    "# 🚨 Simulated DDoS Attack\n",
    "ddos_attack = {\n",
    "    \"features\": [\n",
    "        10, 65535, 1, 9999999, 1, 1000, 100000, 9999999, 65535, 100,\n",
    "        60000, 65535, 9999999, 60000, 0.1, 0.01, 60000, 65000, 65535, 0.01,\n",
    "        20, 9999999, 50, 100000, 99999, 99999, 99999]\n",
    "    \n",
    "}\n",
    "\n",
    "print(\"🚀 Sending Normal Traffic Request...\")\n",
    "normal_response = requests.post(API_URL, json=normal_traffic)\n",
    "print(\"✅ Normal Traffic Response:\", normal_response.json())\n",
    "\n",
    "print(\"\\n🚀 Sending Simulated DDoS Attack Request...\")\n",
    "ddos_response = requests.post(API_URL, json=ddos_attack)\n",
    "print(\"🚨 DDoS Attack Response:\", ddos_response.json())\n"
   ]
  },
  {
   "cell_type": "code",
   "execution_count": null,
   "metadata": {},
   "outputs": [
    {
     "name": "stdout",
     "output_type": "stream",
     "text": [
      "{'error': 'Expected 28 features, but received 30'}\n"
     ]
    }
   ],
   "source": [
    "import requests\n",
    "\n",
    "API_URL = \"http://127.0.0.1:8000/predict\"\n",
    "\n",
    "# 🚀 Example Test Data (28 features)\n",
    "sample_data = {\n",
    "    \"features\": [0.2, -0.1, 0.5, -0.3, 0.7, -0.8, 0.3, -0.5, 0.1, -0.6, 0.4, -0.2, 0.8, -0.4, 0.6, -0.9, 0.7, -0.7, 0.9, -0.2, 0.5, -0.3, 0.2, -0.1, 0.3, -0.6, 0.7, -0.8]\n",
    "}\n",
    "\n",
    "response = requests.post(API_URL, json=sample_data)\n",
    "print(response.json())\n"
   ]
  },
  {
   "cell_type": "code",
   "execution_count": 8,
   "metadata": {},
   "outputs": [
    {
     "name": "stderr",
     "output_type": "stream",
     "text": [
      "2025-02-14 20:33:04.762609: I external/local_xla/xla/tsl/cuda/cudart_stub.cc:32] Could not find cuda drivers on your machine, GPU will not be used.\n",
      "2025-02-14 20:33:04.765768: I external/local_xla/xla/tsl/cuda/cudart_stub.cc:32] Could not find cuda drivers on your machine, GPU will not be used.\n",
      "2025-02-14 20:33:04.774577: E external/local_xla/xla/stream_executor/cuda/cuda_fft.cc:477] Unable to register cuFFT factory: Attempting to register factory for plugin cuFFT when one has already been registered\n",
      "WARNING: All log messages before absl::InitializeLog() is called are written to STDERR\n",
      "E0000 00:00:1739565184.789749    2324 cuda_dnn.cc:8310] Unable to register cuDNN factory: Attempting to register factory for plugin cuDNN when one has already been registered\n",
      "E0000 00:00:1739565184.794026    2324 cuda_blas.cc:1418] Unable to register cuBLAS factory: Attempting to register factory for plugin cuBLAS when one has already been registered\n",
      "2025-02-14 20:33:04.810247: I tensorflow/core/platform/cpu_feature_guard.cc:210] This TensorFlow binary is optimized to use available CPU instructions in performance-critical operations.\n",
      "To enable the following instructions: AVX2 FMA, in other operations, rebuild TensorFlow with the appropriate compiler flags.\n"
     ]
    },
    {
     "name": "stdout",
     "output_type": "stream",
     "text": [
      "Model Input Shape: (None, 27, 1)\n"
     ]
    },
    {
     "name": "stderr",
     "output_type": "stream",
     "text": [
      "2025-02-14 20:33:07.526491: E external/local_xla/xla/stream_executor/cuda/cuda_driver.cc:152] failed call to cuInit: INTERNAL: CUDA error: Failed call to cuInit: UNKNOWN ERROR (303)\n"
     ]
    }
   ],
   "source": [
    "import tensorflow as tf\n",
    "\n",
    "model = tf.keras.models.load_model(\"cnn_lstm_model_v2.keras\")\n",
    "\n",
    "print(f\"Model Input Shape: {model.input_shape}\")\n"
   ]
  },
  {
   "cell_type": "code",
   "execution_count": 12,
   "metadata": {},
   "outputs": [
    {
     "name": "stdout",
     "output_type": "stream",
     "text": [
      "\u001b[1m1/1\u001b[0m \u001b[32m━━━━━━━━━━━━━━━━━━━━\u001b[0m\u001b[37m\u001b[0m \u001b[1m0s\u001b[0m 138ms/step\n",
      "🔥 Model Prediction: 1.0\n"
     ]
    },
    {
     "name": "stderr",
     "output_type": "stream",
     "text": [
      "/home/codespace/.local/lib/python3.12/site-packages/sklearn/utils/validation.py:2739: UserWarning: X does not have valid feature names, but StandardScaler was fitted with feature names\n",
      "  warnings.warn(\n"
     ]
    }
   ],
   "source": [
    "import tensorflow as tf\n",
    "import numpy as np\n",
    "import pickle\n",
    "\n",
    "# Load Model\n",
    "model = tf.keras.models.load_model(\"cnn_lstm_model_v2.keras\")\n",
    "\n",
    "# Load Scaler\n",
    "scaler = pickle.load(open(\"Data/scaler_v2.pkl\", \"rb\"))\n",
    "\n",
    "# Example Normal Traffic Data\n",
    "sample_data = np.array([\n",
    "    [0.1, -0.2, 0.05, -0.1, -0.3, 0.15, 1.2, 0.2, 0.1, -0.09,\n",
    "    -0.02, -0.25, 0.1, -0.26, -0.23, -0.18, -0.29, -0.03, -0.25, -0.47,\n",
    "    -0.51, -0.06, -0.28, -0.58, -0.09, -0.02, 0.8]\n",
    "])\n",
    "\n",
    "# Normalize\n",
    "sample_data = scaler.transform(sample_data)\n",
    "\n",
    "# Reshape for LSTM\n",
    "sample_data = np.expand_dims(sample_data, axis=-1)\n",
    "\n",
    "# Predict\n",
    "prediction = model.predict(sample_data)[0][0]\n",
    "print(f\"🔥 Model Prediction: {prediction}\")\n"
   ]
  },
  {
   "cell_type": "code",
   "execution_count": 8,
   "metadata": {},
   "outputs": [
    {
     "name": "stdout",
     "output_type": "stream",
     "text": [
      "Dataset Features: 27\n",
      "Scaler Expected Features: 26\n"
     ]
    },
    {
     "name": "stderr",
     "output_type": "stream",
     "text": [
      "c:\\Users\\naksh\\AppData\\Local\\Programs\\Python\\Python310\\lib\\site-packages\\sklearn\\base.py:380: InconsistentVersionWarning: Trying to unpickle estimator StandardScaler from version 1.6.0 when using version 1.6.1. This might lead to breaking code or invalid results. Use at your own risk. For more info please refer to:\n",
      "https://scikit-learn.org/stable/model_persistence.html#security-maintainability-limitations\n",
      "  warnings.warn(\n"
     ]
    }
   ],
   "source": [
    "\n",
    "import pickle\n",
    "import pandas as pd\n",
    "\n",
    "# 🚀 Load Fixed Dataset\n",
    "df = pd.read_csv(\"../Data/DDoS_Dataset_v2.csv\")\n",
    "\n",
    "# ✅ Load Scaler\n",
    "scaler = pickle.load(open(\"../Models/scaler_v2.pkl\", \"rb\"))\n",
    "\n",
    "print(f\"Dataset Features: {df.shape[1]}\")\n",
    "print(f\"Scaler Expected Features: {scaler.n_features_in_}\")\n"
   ]
  },
  {
   "cell_type": "code",
   "execution_count": 14,
   "metadata": {},
   "outputs": [
    {
     "name": "stdout",
     "output_type": "stream",
     "text": [
      "Label\n",
      "1    97831\n",
      "0    97831\n",
      "Name: count, dtype: int64\n",
      "   Flow Duration  Total Fwd Packets  Total Backward Packets  \\\n",
      "0      -0.255397          -0.072027               -0.057648   \n",
      "1      -0.368053          -0.072027               -0.057648   \n",
      "2      -0.372189          -0.081711               -0.057648   \n",
      "3      -0.372184           0.053872               -0.057648   \n",
      "4      -0.249653          -0.072027               -0.057648   \n",
      "\n",
      "   Fwd Packets Length Total  Bwd Packets Length Total  Packet Length Max  \\\n",
      "0                 -0.098205                 -0.022748           0.157169   \n",
      "1                 -0.112088                 -0.022748          -0.014762   \n",
      "2                 -0.113507                 -0.022748           0.388666   \n",
      "3                  0.132792                 -0.022748           0.054281   \n",
      "4                 -0.098205                 -0.022748           0.157169   \n",
      "\n",
      "   Packet Length Min  Flow IAT Mean  Flow IAT Std  Flow IAT Max  ...  \\\n",
      "0           1.242688       0.238427      0.156361     -0.096246  ...   \n",
      "1           0.519947      -0.407044     -0.420737     -0.357211  ...   \n",
      "2           1.907143      -0.430740     -0.441909     -0.366787  ...   \n",
      "3          -0.451479      -0.430738     -0.441906     -0.366783  ...   \n",
      "4           1.242688       0.271341      0.185787     -0.082939  ...   \n",
      "\n",
      "   RST Flag Count  ACK Flag Count  URG Flag Count  Bwd Packets/s  \\\n",
      "0       -0.252053       -0.476822       -0.511169      -0.065517   \n",
      "1       -0.252053       -0.476822       -0.511169      -0.065517   \n",
      "2       -0.252053       -0.476822       -0.511169      -0.065517   \n",
      "3       -0.252053       -0.476822       -0.511169      -0.065517   \n",
      "4       -0.252053       -0.476822       -0.511169      -0.065517   \n",
      "\n",
      "   Fwd Packets/s  Down/Up Ratio  Subflow Fwd Bytes  Subflow Bwd Bytes  \\\n",
      "0      -0.287334      -0.588766          -0.098205          -0.022748   \n",
      "1      -0.287244      -0.588766          -0.112088          -0.022748   \n",
      "2       2.193492      -0.588766          -0.113507          -0.022748   \n",
      "3       0.348773      -0.588766           0.132792          -0.022748   \n",
      "4      -0.287334      -0.588766          -0.098205          -0.022748   \n",
      "\n",
      "   Protocol  Label  \n",
      "0  0.813563      1  \n",
      "1  0.813563      1  \n",
      "2  0.813563      1  \n",
      "3  0.813563      1  \n",
      "4  0.813563      1  \n",
      "\n",
      "[5 rows x 28 columns]\n"
     ]
    }
   ],
   "source": [
    "import pandas as pd\n",
    "\n",
    "df = pd.read_csv(\"Data/DDoS_Dataset_v2.csv\")\n",
    "\n",
    "print(df[\"Label\"].value_counts())  # Check label distribution\n",
    "print(df.head())  # Check first few rows\n"
   ]
  },
  {
   "cell_type": "code",
   "execution_count": 20,
   "metadata": {},
   "outputs": [
    {
     "name": "stdout",
     "output_type": "stream",
     "text": [
      "Dataset Features: 27\n",
      "Scaler Expected Features: 26\n"
     ]
    }
   ],
   "source": [
    "import pickle\n",
    "import pandas as pd\n",
    "\n",
    "df = pd.read_csv(\"Data/DDoS_Dataset_v2.csv\")\n",
    "scaler = pickle.load(open(\"Data/scaler_v2.pkl\", \"rb\"))\n",
    "\n",
    "print(f\"Dataset Features: {df.shape[1]}\")\n",
    "print(f\"Scaler Expected Features: {scaler.n_features_in_}\")\n"
   ]
  },
  {
   "cell_type": "code",
   "execution_count": 24,
   "metadata": {},
   "outputs": [
    {
     "name": "stdout",
     "output_type": "stream",
     "text": [
      "{'alert': '🚨 DDoS Attack Detected!', 'confidence': 0.9999406337738037}\n"
     ]
    }
   ],
   "source": [
    "import requests\n",
    "\n",
    "API_URL = \"http://127.0.0.1:8000/predict\"\n",
    "\n",
    "# 🚀 Example Test Data (28 features)\n",
    "sample_data = {\n",
    "    \"features\": [0.2, -0.1, 0.5, -0.3, 0.7, -0.8, 0.3, -0.5, 0.1, -0.6, 0.4, -0.2, 0.8, -0.4, 0.6, -0.9, 0.7, -0.7, 0.9, -0.2, 0.5, -0.3, 0.2, -0.1, 0.3, -0.6]\n",
    "}\n",
    "\n",
    "response = requests.post(API_URL, json=sample_data)\n",
    "print(response.json())\n"
   ]
  },
  {
   "cell_type": "code",
   "execution_count": 11,
   "metadata": {},
   "outputs": [
    {
     "name": "stdout",
     "output_type": "stream",
     "text": [
      "Dataset Columns (28): Index(['Flow Duration', 'Total Fwd Packets', 'Total Backward Packets',\n",
      "       'Fwd Packets Length Total', 'Bwd Packets Length Total',\n",
      "       'Packet Length Max', 'Packet Length Min', 'Flow IAT Mean',\n",
      "       'Flow IAT Std', 'Flow IAT Max', 'Flow IAT Min', 'Fwd IAT Total',\n",
      "       'Fwd IAT Mean', 'Bwd IAT Total', 'Bwd IAT Mean', 'Flow Bytes/s',\n",
      "       'Flow Packets/s', 'SYN Flag Count', 'RST Flag Count', 'ACK Flag Count',\n",
      "       'URG Flag Count', 'Bwd Packets/s', 'Fwd Packets/s', 'Down/Up Ratio',\n",
      "       'Subflow Fwd Bytes', 'Subflow Bwd Bytes', 'Protocol', 'Label'],\n",
      "      dtype='object')\n",
      "Scaler Expected Features: 27\n"
     ]
    }
   ],
   "source": [
    "import pickle\n",
    "import pandas as pd\n",
    "\n",
    "# Load dataset\n",
    "df = pd.read_csv(\"Data/DDoS_Dataset_v2.csv\")\n",
    "print(f\"Dataset Columns ({len(df.columns)}):\", df.columns)\n",
    "\n",
    "# Load scaler\n",
    "scaler = pickle.load(open(\"Data/scaler_v2.pkl\", \"rb\"))\n",
    "print(f\"Scaler Expected Features: {scaler.n_features_in_}\")\n"
   ]
  },
  {
   "cell_type": "code",
   "execution_count": 13,
   "metadata": {},
   "outputs": [
    {
     "name": "stdout",
     "output_type": "stream",
     "text": [
      "Dataset Columns (28): ['Flow Duration', 'Total Fwd Packets', 'Total Backward Packets', 'Fwd Packets Length Total', 'Bwd Packets Length Total', 'Packet Length Max', 'Packet Length Min', 'Flow IAT Mean', 'Flow IAT Std', 'Flow IAT Max', 'Flow IAT Min', 'Fwd IAT Total', 'Fwd IAT Mean', 'Bwd IAT Total', 'Bwd IAT Mean', 'Flow Bytes/s', 'Flow Packets/s', 'SYN Flag Count', 'RST Flag Count', 'ACK Flag Count', 'URG Flag Count', 'Bwd Packets/s', 'Fwd Packets/s', 'Down/Up Ratio', 'Subflow Fwd Bytes', 'Subflow Bwd Bytes', 'Protocol', 'Label']\n",
      "Scaler Expected Features (27): ['Flow Duration' 'Total Fwd Packets' 'Total Backward Packets'\n",
      " 'Fwd Packets Length Total' 'Bwd Packets Length Total' 'Packet Length Max'\n",
      " 'Packet Length Min' 'Flow IAT Mean' 'Flow IAT Std' 'Flow IAT Max'\n",
      " 'Flow IAT Min' 'Fwd IAT Total' 'Fwd IAT Mean' 'Bwd IAT Total'\n",
      " 'Bwd IAT Mean' 'Flow Bytes/s' 'Flow Packets/s' 'SYN Flag Count'\n",
      " 'RST Flag Count' 'ACK Flag Count' 'URG Flag Count' 'Bwd Packets/s'\n",
      " 'Fwd Packets/s' 'Down/Up Ratio' 'Subflow Fwd Bytes' 'Subflow Bwd Bytes'\n",
      " 'Protocol']\n"
     ]
    },
    {
     "ename": "ValueError",
     "evalue": "The truth value of an array with more than one element is ambiguous. Use a.any() or a.all()",
     "output_type": "error",
     "traceback": [
      "\u001b[0;31m---------------------------------------------------------------------------\u001b[0m",
      "\u001b[0;31mValueError\u001b[0m                                Traceback (most recent call last)",
      "Cell \u001b[0;32mIn[13], line 15\u001b[0m\n\u001b[1;32m     13\u001b[0m \u001b[38;5;66;03m# Compare and find mismatches\u001b[39;00m\n\u001b[1;32m     14\u001b[0m dataset_features \u001b[38;5;241m=\u001b[39m df\u001b[38;5;241m.\u001b[39mcolumns[:\u001b[38;5;241m-\u001b[39m\u001b[38;5;241m1\u001b[39m]  \u001b[38;5;66;03m# Exclude Label\u001b[39;00m\n\u001b[0;32m---> 15\u001b[0m \u001b[38;5;28;01mif\u001b[39;00m expected_features:\n\u001b[1;32m     16\u001b[0m     missing_in_scaler \u001b[38;5;241m=\u001b[39m \u001b[38;5;28mset\u001b[39m(dataset_features) \u001b[38;5;241m-\u001b[39m \u001b[38;5;28mset\u001b[39m(expected_features)\n\u001b[1;32m     17\u001b[0m     extra_in_scaler \u001b[38;5;241m=\u001b[39m \u001b[38;5;28mset\u001b[39m(expected_features) \u001b[38;5;241m-\u001b[39m \u001b[38;5;28mset\u001b[39m(dataset_features)\n",
      "\u001b[0;31mValueError\u001b[0m: The truth value of an array with more than one element is ambiguous. Use a.any() or a.all()"
     ]
    }
   ],
   "source": [
    "import pickle\n",
    "import pandas as pd\n",
    "\n",
    "# Load dataset\n",
    "df = pd.read_csv(\"Data/DDoS_Dataset_v2.csv\")\n",
    "print(f\"Dataset Columns ({len(df.columns)}):\", df.columns.tolist())\n",
    "\n",
    "# Load scaler\n",
    "scaler = pickle.load(open(\"Data/scaler_v2.pkl\", \"rb\"))\n",
    "expected_features = scaler.feature_names_in_ if hasattr(scaler, \"feature_names_in_\") else None\n",
    "print(f\"Scaler Expected Features ({scaler.n_features_in_}):\", expected_features)\n",
    "\n",
    "# Compare and find mismatches\n",
    "dataset_features = df.columns[:-1]  # Exclude Label\n",
    "if expected_features:\n",
    "    missing_in_scaler = set(dataset_features) - set(expected_features)\n",
    "    extra_in_scaler = set(expected_features) - set(dataset_features)\n",
    "\n",
    "    print(\"\\n🔍 Features in dataset but NOT in scaler:\", missing_in_scaler)\n",
    "    print(\"❌ Features in scaler but NOT in dataset:\", extra_in_scaler)\n"
   ]
  },
  {
   "cell_type": "code",
   "execution_count": 14,
   "metadata": {},
   "outputs": [
    {
     "name": "stdout",
     "output_type": "stream",
     "text": [
      "✅ FIXED: Scaler retrained and saved as `scaler_v2.pkl`!\n",
      "✅ FIXED: Dataset saved again with the correct features!\n"
     ]
    }
   ],
   "source": [
    "from sklearn.preprocessing import StandardScaler\n",
    "import pandas as pd\n",
    "import pickle\n",
    "\n",
    "# Load latest dataset\n",
    "df = pd.read_csv(\"Data/DDoS_Dataset_v2.csv\")\n",
    "\n",
    "# ✅ Ensure correct feature selection (EXCLUDE LABEL)\n",
    "feature_columns = df.columns[:-1]\n",
    "\n",
    "# ✅ Train a new StandardScaler\n",
    "scaler = StandardScaler()\n",
    "df[feature_columns] = scaler.fit_transform(df[feature_columns])\n",
    "\n",
    "# 💾 Save the updated scaler\n",
    "pickle.dump(scaler, open(\"Data/scaler_v2.pkl\", \"wb\"))\n",
    "print(\"✅ FIXED: Scaler retrained and saved as `scaler_v2.pkl`!\")\n",
    "\n",
    "# 💾 Save the updated dataset (normalized)\n",
    "df.to_csv(\"Data/DDoS_Dataset_v2.csv\", index=False)\n",
    "print(\"✅ FIXED: Dataset saved again with the correct features!\")\n"
   ]
  },
  {
   "cell_type": "code",
   "execution_count": null,
   "metadata": {},
   "outputs": [
    {
     "name": "stdout",
     "output_type": "stream",
     "text": [
      "🔥 Dataset Features: 26 (Excluding Label)\n",
      "🔥 Scaler Expected Features: 26\n"
     ]
    }
   ],
   "source": [
    "import pandas as pd\n",
    "import pickle\n",
    "\n",
    "# ✅ Load Dataset\n",
    "df = pd.read_csv(\"Data/DDoS_Dataset_v2.csv\")\n",
    "print(f\"🔥 Dataset Features: {len(df.columns) - 1} (Excluding Label)\")\n",
    "\n",
    "# ✅ Load Scaler\n",
    "scaler = pickle.load(open(\"Data/scaler_v2.pkl\", \"rb\"))\n",
    "print(f\"🔥 Scaler Expected Features: {scaler.n_features_in_}\")\n"
   ]
  },
  {
   "cell_type": "code",
   "execution_count": null,
   "metadata": {},
   "outputs": [
    {
     "ename": "ValueError",
     "evalue": "File format not supported: filepath=../Models/xgb_classifier.pkl. Keras 3 only supports V3 `.keras` files and legacy H5 format files (`.h5` extension). Note that the legacy SavedModel format is not supported by `load_model()` in Keras 3. In order to reload a TensorFlow SavedModel as an inference-only layer in Keras 3, use `keras.layers.TFSMLayer(../Models/xgb_classifier.pkl, call_endpoint='serving_default')` (note that your `call_endpoint` might have a different name).",
     "output_type": "error",
     "traceback": [
      "\u001b[1;31m---------------------------------------------------------------------------\u001b[0m",
      "\u001b[1;31mValueError\u001b[0m                                Traceback (most recent call last)",
      "Cell \u001b[1;32mIn[4], line 3\u001b[0m\n\u001b[0;32m      1\u001b[0m \u001b[38;5;28;01mimport\u001b[39;00m\u001b[38;5;250m \u001b[39m\u001b[38;5;21;01mtensorflow\u001b[39;00m\u001b[38;5;250m \u001b[39m\u001b[38;5;28;01mas\u001b[39;00m\u001b[38;5;250m \u001b[39m\u001b[38;5;21;01mtf\u001b[39;00m\n\u001b[1;32m----> 3\u001b[0m model \u001b[38;5;241m=\u001b[39m \u001b[43mtf\u001b[49m\u001b[38;5;241;43m.\u001b[39;49m\u001b[43mkeras\u001b[49m\u001b[38;5;241;43m.\u001b[39;49m\u001b[43mmodels\u001b[49m\u001b[38;5;241;43m.\u001b[39;49m\u001b[43mload_model\u001b[49m\u001b[43m(\u001b[49m\u001b[38;5;124;43m\"\u001b[39;49m\u001b[38;5;124;43m../Models/xgb_classifier.pkl\u001b[39;49m\u001b[38;5;124;43m\"\u001b[39;49m\u001b[43m)\u001b[49m\n\u001b[0;32m      4\u001b[0m \u001b[38;5;28mprint\u001b[39m(\u001b[38;5;124mf\u001b[39m\u001b[38;5;124m\"\u001b[39m\u001b[38;5;124m🔥 Model Input Shape: \u001b[39m\u001b[38;5;132;01m{\u001b[39;00mmodel\u001b[38;5;241m.\u001b[39minput_shape\u001b[38;5;132;01m}\u001b[39;00m\u001b[38;5;124m\"\u001b[39m)\n",
      "File \u001b[1;32md:\\naki\\Projects\\SentinelAI\\sentinel_env\\lib\\site-packages\\keras\\src\\saving\\saving_api.py:206\u001b[0m, in \u001b[0;36mload_model\u001b[1;34m(filepath, custom_objects, compile, safe_mode)\u001b[0m\n\u001b[0;32m    200\u001b[0m     \u001b[38;5;28;01mraise\u001b[39;00m \u001b[38;5;167;01mValueError\u001b[39;00m(\n\u001b[0;32m    201\u001b[0m         \u001b[38;5;124mf\u001b[39m\u001b[38;5;124m\"\u001b[39m\u001b[38;5;124mFile not found: filepath=\u001b[39m\u001b[38;5;132;01m{\u001b[39;00mfilepath\u001b[38;5;132;01m}\u001b[39;00m\u001b[38;5;124m. \u001b[39m\u001b[38;5;124m\"\u001b[39m\n\u001b[0;32m    202\u001b[0m         \u001b[38;5;124m\"\u001b[39m\u001b[38;5;124mPlease ensure the file is an accessible `.keras` \u001b[39m\u001b[38;5;124m\"\u001b[39m\n\u001b[0;32m    203\u001b[0m         \u001b[38;5;124m\"\u001b[39m\u001b[38;5;124mzip file.\u001b[39m\u001b[38;5;124m\"\u001b[39m\n\u001b[0;32m    204\u001b[0m     )\n\u001b[0;32m    205\u001b[0m \u001b[38;5;28;01melse\u001b[39;00m:\n\u001b[1;32m--> 206\u001b[0m     \u001b[38;5;28;01mraise\u001b[39;00m \u001b[38;5;167;01mValueError\u001b[39;00m(\n\u001b[0;32m    207\u001b[0m         \u001b[38;5;124mf\u001b[39m\u001b[38;5;124m\"\u001b[39m\u001b[38;5;124mFile format not supported: filepath=\u001b[39m\u001b[38;5;132;01m{\u001b[39;00mfilepath\u001b[38;5;132;01m}\u001b[39;00m\u001b[38;5;124m. \u001b[39m\u001b[38;5;124m\"\u001b[39m\n\u001b[0;32m    208\u001b[0m         \u001b[38;5;124m\"\u001b[39m\u001b[38;5;124mKeras 3 only supports V3 `.keras` files and \u001b[39m\u001b[38;5;124m\"\u001b[39m\n\u001b[0;32m    209\u001b[0m         \u001b[38;5;124m\"\u001b[39m\u001b[38;5;124mlegacy H5 format files (`.h5` extension). \u001b[39m\u001b[38;5;124m\"\u001b[39m\n\u001b[0;32m    210\u001b[0m         \u001b[38;5;124m\"\u001b[39m\u001b[38;5;124mNote that the legacy SavedModel format is not \u001b[39m\u001b[38;5;124m\"\u001b[39m\n\u001b[0;32m    211\u001b[0m         \u001b[38;5;124m\"\u001b[39m\u001b[38;5;124msupported by `load_model()` in Keras 3. In \u001b[39m\u001b[38;5;124m\"\u001b[39m\n\u001b[0;32m    212\u001b[0m         \u001b[38;5;124m\"\u001b[39m\u001b[38;5;124morder to reload a TensorFlow SavedModel as an \u001b[39m\u001b[38;5;124m\"\u001b[39m\n\u001b[0;32m    213\u001b[0m         \u001b[38;5;124m\"\u001b[39m\u001b[38;5;124minference-only layer in Keras 3, use \u001b[39m\u001b[38;5;124m\"\u001b[39m\n\u001b[0;32m    214\u001b[0m         \u001b[38;5;124m\"\u001b[39m\u001b[38;5;124m`keras.layers.TFSMLayer(\u001b[39m\u001b[38;5;124m\"\u001b[39m\n\u001b[0;32m    215\u001b[0m         \u001b[38;5;124mf\u001b[39m\u001b[38;5;124m\"\u001b[39m\u001b[38;5;132;01m{\u001b[39;00mfilepath\u001b[38;5;132;01m}\u001b[39;00m\u001b[38;5;124m, call_endpoint=\u001b[39m\u001b[38;5;124m'\u001b[39m\u001b[38;5;124mserving_default\u001b[39m\u001b[38;5;124m'\u001b[39m\u001b[38;5;124m)` \u001b[39m\u001b[38;5;124m\"\u001b[39m\n\u001b[0;32m    216\u001b[0m         \u001b[38;5;124m\"\u001b[39m\u001b[38;5;124m(note that your `call_endpoint` \u001b[39m\u001b[38;5;124m\"\u001b[39m\n\u001b[0;32m    217\u001b[0m         \u001b[38;5;124m\"\u001b[39m\u001b[38;5;124mmight have a different name).\u001b[39m\u001b[38;5;124m\"\u001b[39m\n\u001b[0;32m    218\u001b[0m     )\n",
      "\u001b[1;31mValueError\u001b[0m: File format not supported: filepath=../Models/xgb_classifier.pkl. Keras 3 only supports V3 `.keras` files and legacy H5 format files (`.h5` extension). Note that the legacy SavedModel format is not supported by `load_model()` in Keras 3. In order to reload a TensorFlow SavedModel as an inference-only layer in Keras 3, use `keras.layers.TFSMLayer(../Models/xgb_classifier.pkl, call_endpoint='serving_default')` (note that your `call_endpoint` might have a different name)."
     ]
    }
   ],
   "source": [
    "import tensorflow as tf\n",
    "\n",
    "model = tf.keras.models.load_model(\"../Models/cnn_lstm_xgb_model_v1.keras\")\n",
    "print(f\"🔥 LSTM Feature Extraction Shape: {X_train_embeddings.shape}\")\n",
    "\n",
    "print(f\"🔥 Model Input Shape: {model.input_shape}\")\n"
   ]
  }
 ],
 "metadata": {
  "kernelspec": {
   "display_name": "sentinel_env",
   "language": "python",
   "name": "python3"
  },
  "language_info": {
   "codemirror_mode": {
    "name": "ipython",
    "version": 3
   },
   "file_extension": ".py",
   "mimetype": "text/x-python",
   "name": "python",
   "nbconvert_exporter": "python",
   "pygments_lexer": "ipython3",
   "version": "3.10.0"
  }
 },
 "nbformat": 4,
 "nbformat_minor": 2
}
